{
  "cells": [
    {
      "cell_type": "markdown",
      "metadata": {
        "id": "21XXWP7Fpt2L"
      },
      "source": [
        "# Superhero (and Supervillain) Name Generator\n",
        "\n",
        "---\n",
        "\n",
        "[Superhero Names Dataset](https://github.com/am1tyadav/superhero)"
      ]
    },
    {
      "cell_type": "markdown",
      "metadata": {
        "id": "H6P0NU5Cpt2R"
      },
      "source": [
        "## Task 2\n",
        "\n",
        "1. Import the data\n",
        "2. Create a tokenizer\n",
        "3. Char to index and Index to char dictionaries"
      ]
    },
    {
      "cell_type": "code",
      "execution_count": 2,
      "metadata": {
        "id": "srULhalZpt2M",
        "colab": {
          "base_uri": "https://localhost:8080/"
        },
        "outputId": "0bc3e4e1-626e-46cc-ce4b-281ebab6c927"
      },
      "outputs": [
        {
          "output_type": "stream",
          "name": "stdout",
          "text": [
            "Cloning into 'superhero'...\n",
            "remote: Enumerating objects: 8, done.\u001b[K\n",
            "remote: Counting objects: 100% (8/8), done.\u001b[K\n",
            "remote: Compressing objects: 100% (7/7), done.\u001b[K\n",
            "remote: Total 8 (delta 0), reused 4 (delta 0), pack-reused 0\u001b[K\n",
            "Unpacking objects: 100% (8/8), done.\n"
          ]
        }
      ],
      "source": [
        "!git clone https://github.com/am1tyadav/superhero"
      ]
    },
    {
      "cell_type": "code",
      "execution_count": 3,
      "metadata": {
        "id": "uq4CLmsLpt2P",
        "colab": {
          "base_uri": "https://localhost:8080/",
          "height": 53
        },
        "outputId": "4eb37c85-f601-405c-cd1c-42909c40f87d"
      },
      "outputs": [
        {
          "output_type": "execute_result",
          "data": {
            "text/plain": [
              "'jumpa\\t\\ndoctor fate\\t\\nstarlight\\t\\nisildur\\t\\nlasher\\t\\nvarvara\\t\\nthe target\\t\\naxel\\t\\nbattra\\t\\nchangeling\\t\\npyrrh'"
            ],
            "application/vnd.google.colaboratory.intrinsic+json": {
              "type": "string"
            }
          },
          "metadata": {},
          "execution_count": 3
        }
      ],
      "source": [
        "with open('superhero/superheroes.txt', 'r') as f:\n",
        "  data = f.read()\n",
        "\n",
        "data[:100]"
      ]
    },
    {
      "cell_type": "code",
      "execution_count": 4,
      "metadata": {
        "id": "JqhtLuAHpt2R",
        "colab": {
          "base_uri": "https://localhost:8080/"
        },
        "outputId": "8c1bce4b-c5e1-4f1e-fa0e-d8ae7bfefbd8"
      },
      "outputs": [
        {
          "output_type": "stream",
          "name": "stdout",
          "text": [
            "2.9.2\n"
          ]
        }
      ],
      "source": [
        "import tensorflow as tf\n",
        "print(tf.__version__)"
      ]
    },
    {
      "cell_type": "code",
      "execution_count": 5,
      "metadata": {
        "id": "95Lo1Yqzpt2T"
      },
      "outputs": [],
      "source": [
        "tokenizer = tf.keras.preprocessing.text.Tokenizer(\n",
        "    filters='!\"#$%&()*+,-./:;<=>?@[\\\\]^_`{|}~',\n",
        "    split='\\n',\n",
        ")"
      ]
    },
    {
      "cell_type": "code",
      "execution_count": 6,
      "metadata": {
        "id": "qYfC4sj2pt2V"
      },
      "outputs": [],
      "source": [
        "tokenizer.fit_on_texts(data)"
      ]
    },
    {
      "cell_type": "code",
      "execution_count": 7,
      "metadata": {
        "id": "EO4-dPM6pt2X",
        "colab": {
          "base_uri": "https://localhost:8080/"
        },
        "outputId": "f21306d5-5574-4969-ad13-fa59f635df38"
      },
      "outputs": [
        {
          "output_type": "stream",
          "name": "stdout",
          "text": [
            "{1: '\\t', 2: 'a', 3: 'e', 4: 'r', 5: 'o', 6: 'n', 7: 'i', 8: ' ', 9: 't', 10: 's', 11: 'l', 12: 'm', 13: 'h', 14: 'd', 15: 'c', 16: 'u', 17: 'g', 18: 'k', 19: 'b', 20: 'p', 21: 'y', 22: 'w', 23: 'f', 24: 'v', 25: 'j', 26: 'z', 27: 'x', 28: 'q'}\n"
          ]
        }
      ],
      "source": [
        "char_to_index = tokenizer.word_index\n",
        "index_to_char = dict((v,k) for k,v in char_to_index.items())\n",
        "\n",
        "print(index_to_char)"
      ]
    },
    {
      "cell_type": "markdown",
      "metadata": {
        "id": "SMwtIw_Bpt2Z"
      },
      "source": [
        "## Task 3\n",
        "\n",
        "1. Converting between names and sequences"
      ]
    },
    {
      "cell_type": "code",
      "execution_count": 8,
      "metadata": {
        "id": "N7iQLIXzpt2a",
        "colab": {
          "base_uri": "https://localhost:8080/"
        },
        "outputId": "62cc249d-8968-4b42-878f-c09a36ff5797"
      },
      "outputs": [
        {
          "output_type": "execute_result",
          "data": {
            "text/plain": [
              "['jumpa\\t',\n",
              " 'doctor fate\\t',\n",
              " 'starlight\\t',\n",
              " 'isildur\\t',\n",
              " 'lasher\\t',\n",
              " 'varvara\\t',\n",
              " 'the target\\t',\n",
              " 'axel\\t',\n",
              " 'battra\\t',\n",
              " 'changeling\\t']"
            ]
          },
          "metadata": {},
          "execution_count": 8
        }
      ],
      "source": [
        "names = data.splitlines()\n",
        "names[:10]"
      ]
    },
    {
      "cell_type": "code",
      "execution_count": 9,
      "metadata": {
        "id": "n_-TTfqipt2c",
        "colab": {
          "base_uri": "https://localhost:8080/"
        },
        "outputId": "6b49f7d8-5c0d-4823-fd77-78b9928a07fe"
      },
      "outputs": [
        {
          "output_type": "execute_result",
          "data": {
            "text/plain": [
              "[[25], [16], [12], [20], [2], [1]]"
            ]
          },
          "metadata": {},
          "execution_count": 9
        }
      ],
      "source": [
        "tokenizer.texts_to_sequences(names[0])"
      ]
    },
    {
      "cell_type": "code",
      "execution_count": 10,
      "metadata": {
        "id": "P6IsKH1Upt2e"
      },
      "outputs": [],
      "source": [
        "def name_to_seq(name):\n",
        "  return [tokenizer.texts_to_sequences(c)[0][0] for c in name]"
      ]
    },
    {
      "cell_type": "code",
      "execution_count": 12,
      "metadata": {
        "id": "TuLUiMP3pt2g",
        "colab": {
          "base_uri": "https://localhost:8080/"
        },
        "outputId": "bd1d2810-74be-4ec7-c469-011191e21f61"
      },
      "outputs": [
        {
          "output_type": "execute_result",
          "data": {
            "text/plain": [
              "[25, 16, 12, 20, 2, 1]"
            ]
          },
          "metadata": {},
          "execution_count": 12
        }
      ],
      "source": [
        "name_to_seq(names[0])"
      ]
    },
    {
      "cell_type": "code",
      "execution_count": 13,
      "metadata": {
        "id": "yFUYhimKpt2h"
      },
      "outputs": [],
      "source": [
        "def seq_to_name(seq):\n",
        "  return ''.join([index_to_char[i] for i in seq if i!=0])"
      ]
    },
    {
      "cell_type": "code",
      "execution_count": 14,
      "metadata": {
        "id": "ROhCqmhLpt2k",
        "colab": {
          "base_uri": "https://localhost:8080/",
          "height": 35
        },
        "outputId": "c1299114-f778-4b55-f3c2-9e7ba04381ab"
      },
      "outputs": [
        {
          "output_type": "execute_result",
          "data": {
            "text/plain": [
              "'jumpa\\t'"
            ],
            "application/vnd.google.colaboratory.intrinsic+json": {
              "type": "string"
            }
          },
          "metadata": {},
          "execution_count": 14
        }
      ],
      "source": [
        "seq_to_name(name_to_seq(names[0]))"
      ]
    },
    {
      "cell_type": "markdown",
      "metadata": {
        "id": "uCbAzsNjpt2m"
      },
      "source": [
        "## Task 4\n",
        "\n",
        "1. Creating sequences\n",
        "2. Padding all sequences"
      ]
    },
    {
      "cell_type": "code",
      "execution_count": 15,
      "metadata": {
        "id": "zstNn-0dpt2m"
      },
      "outputs": [],
      "source": [
        "sequences = []\n",
        "\n",
        "for name in names:\n",
        "  seq = name_to_seq(name)\n",
        "  if len(seq) >= 2:\n",
        "    sequences += [seq[:i] for i in range(2, len(seq)+1)]"
      ]
    },
    {
      "cell_type": "code",
      "execution_count": 16,
      "metadata": {
        "id": "BjRTMysvpt2o",
        "colab": {
          "base_uri": "https://localhost:8080/"
        },
        "outputId": "b9e0ad86-2b6a-4c8b-d17c-d415e0084f27"
      },
      "outputs": [
        {
          "output_type": "execute_result",
          "data": {
            "text/plain": [
              "[[25, 16],\n",
              " [25, 16, 12],\n",
              " [25, 16, 12, 20],\n",
              " [25, 16, 12, 20, 2],\n",
              " [25, 16, 12, 20, 2, 1],\n",
              " [14, 5],\n",
              " [14, 5, 15],\n",
              " [14, 5, 15, 9],\n",
              " [14, 5, 15, 9, 5],\n",
              " [14, 5, 15, 9, 5, 4]]"
            ]
          },
          "metadata": {},
          "execution_count": 16
        }
      ],
      "source": [
        "sequences[:10]"
      ]
    },
    {
      "cell_type": "code",
      "execution_count": 17,
      "metadata": {
        "id": "SR68pu2tpt2q",
        "colab": {
          "base_uri": "https://localhost:8080/"
        },
        "outputId": "0837f81f-3f92-45fc-93d7-57fa2a1f6207"
      },
      "outputs": [
        {
          "output_type": "stream",
          "name": "stdout",
          "text": [
            "33\n"
          ]
        }
      ],
      "source": [
        "max_len = max([len(x) for x in sequences])\n",
        "print(max_len)"
      ]
    },
    {
      "cell_type": "code",
      "execution_count": 21,
      "metadata": {
        "id": "h_1BtWO7pt2r",
        "colab": {
          "base_uri": "https://localhost:8080/"
        },
        "outputId": "6307894e-3845-4edb-ca07-41ae4c238ccf"
      },
      "outputs": [
        {
          "output_type": "stream",
          "name": "stdout",
          "text": [
            "[ 0  0  0  0  0  0  0  0  0  0  0  0  0  0  0  0  0  0  0  0  0  0  0  0\n",
            "  0  0  0  0  0  0  0 25 16]\n"
          ]
        }
      ],
      "source": [
        "padded_sequences = tf.keras.preprocessing.sequence.pad_sequences(\n",
        "    sequences, padding='pre',\n",
        "    maxlen = max_len\n",
        ")\n",
        "\n",
        "print(padded_sequences[0])"
      ]
    },
    {
      "cell_type": "code",
      "execution_count": 22,
      "metadata": {
        "id": "sPlrLRpSpt2t",
        "colab": {
          "base_uri": "https://localhost:8080/"
        },
        "outputId": "5d581f00-f616-4a6a-b4a7-1c824c2fd477"
      },
      "outputs": [
        {
          "output_type": "execute_result",
          "data": {
            "text/plain": [
              "(88279, 33)"
            ]
          },
          "metadata": {},
          "execution_count": 22
        }
      ],
      "source": [
        "padded_sequences.shape"
      ]
    },
    {
      "cell_type": "markdown",
      "metadata": {
        "id": "U-EQD3tW_73e"
      },
      "source": [
        "## Task 5: Creating Training and Validation Sets\n",
        "\n",
        "1. Creating training and validation sets"
      ]
    },
    {
      "cell_type": "code",
      "execution_count": 24,
      "metadata": {
        "id": "BE4BIeSnpt2v",
        "colab": {
          "base_uri": "https://localhost:8080/"
        },
        "outputId": "aa0225d7-f1a8-4317-df99-d4ecd3fd3a69"
      },
      "outputs": [
        {
          "output_type": "stream",
          "name": "stdout",
          "text": [
            "(88279, 32) (88279,)\n"
          ]
        }
      ],
      "source": [
        "x,y = padded_sequences[:,:-1], padded_sequences[:,-1]\n",
        "print(x.shape,y.shape)"
      ]
    },
    {
      "cell_type": "code",
      "execution_count": 25,
      "metadata": {
        "id": "DdecXzs8_73f",
        "colab": {
          "base_uri": "https://localhost:8080/"
        },
        "outputId": "55033c0d-6fca-4220-9d31-ff77dd6d45a7"
      },
      "outputs": [
        {
          "output_type": "stream",
          "name": "stdout",
          "text": [
            "(66209, 32) (66209,)\n",
            "(22070, 32) (22070,)\n"
          ]
        }
      ],
      "source": [
        "from sklearn.model_selection import train_test_split\n",
        "x_train, x_test, y_train, y_test = train_test_split(x,y)\n",
        "\n",
        "print(x_train.shape, y_train.shape)\n",
        "print(x_test.shape, y_test.shape)\n"
      ]
    },
    {
      "cell_type": "code",
      "execution_count": 26,
      "metadata": {
        "id": "cgqRZtqnpt2x",
        "colab": {
          "base_uri": "https://localhost:8080/"
        },
        "outputId": "cfcffb46-3797-4858-cc71-fefbaabdb164"
      },
      "outputs": [
        {
          "output_type": "stream",
          "name": "stdout",
          "text": [
            "29\n"
          ]
        }
      ],
      "source": [
        "num_chars = len(char_to_index.keys()) + 1\n",
        "print(num_chars)"
      ]
    },
    {
      "cell_type": "markdown",
      "metadata": {
        "id": "uRM3aT0Q_73f"
      },
      "source": [
        "## Task 6: Creating the Model"
      ]
    },
    {
      "cell_type": "code",
      "execution_count": 28,
      "metadata": {
        "id": "8xWXR4QJ_73g",
        "colab": {
          "base_uri": "https://localhost:8080/"
        },
        "outputId": "79715117-9917-417b-bff6-ad0df1476f0c"
      },
      "outputs": [
        {
          "output_type": "stream",
          "name": "stdout",
          "text": [
            "Model: \"sequential\"\n",
            "_________________________________________________________________\n",
            " Layer (type)                Output Shape              Param #   \n",
            "=================================================================\n",
            " embedding_1 (Embedding)     (None, 32, 8)             232       \n",
            "                                                                 \n",
            " conv1d_1 (Conv1D)           (None, 32, 64)            2624      \n",
            "                                                                 \n",
            " max_pooling1d (MaxPooling1D  (None, 16, 64)           0         \n",
            " )                                                               \n",
            "                                                                 \n",
            " lstm (LSTM)                 (None, 32)                12416     \n",
            "                                                                 \n",
            " dense (Dense)               (None, 29)                957       \n",
            "                                                                 \n",
            "=================================================================\n",
            "Total params: 16,229\n",
            "Trainable params: 16,229\n",
            "Non-trainable params: 0\n",
            "_________________________________________________________________\n"
          ]
        }
      ],
      "source": [
        "from keras.models import Sequential\n",
        "from keras.layers import Embedding, Conv1D, MaxPool1D, LSTM\n",
        "from keras.layers import Bidirectional, Dense\n",
        "\n",
        "model = Sequential([\n",
        "    Embedding(num_chars, 8, input_length = max_len-1),\n",
        "    Conv1D(64, 5, strides=1, activation='tanh', padding='causal'),\n",
        "    MaxPool1D(2),\n",
        "    LSTM(32),\n",
        "    Dense(num_chars, activation='softmax')\n",
        "    \n",
        "])\n",
        "\n",
        "model.compile(\n",
        "    loss = 'sparse_categorical_crossentropy',\n",
        "    optimizer = 'adam',\n",
        "    metrics = ['accuracy']\n",
        ")\n",
        "\n",
        "model.summary()"
      ]
    },
    {
      "cell_type": "markdown",
      "metadata": {
        "id": "ryLAq-43_73g"
      },
      "source": [
        "## Task 7: Training the Model"
      ]
    },
    {
      "cell_type": "code",
      "execution_count": 29,
      "metadata": {
        "id": "j0Ssl4qupt22",
        "colab": {
          "base_uri": "https://localhost:8080/"
        },
        "outputId": "6ff17ce1-d3f8-4b25-8aa2-b7a057ee776f"
      },
      "outputs": [
        {
          "output_type": "stream",
          "name": "stdout",
          "text": [
            "Epoch 1/50\n",
            "2070/2070 - 29s - loss: 2.7374 - accuracy: 0.1929 - val_loss: 2.5816 - val_accuracy: 0.2211 - 29s/epoch - 14ms/step\n",
            "Epoch 2/50\n",
            "2070/2070 - 27s - loss: 2.5398 - accuracy: 0.2346 - val_loss: 2.5002 - val_accuracy: 0.2365 - 27s/epoch - 13ms/step\n",
            "Epoch 3/50\n",
            "Epoch 4/50\n",
            "2070/2070 - 29s - loss: 2.4198 - accuracy: 0.2658 - val_loss: 2.4033 - val_accuracy: 0.2700 - 29s/epoch - 14ms/step\n",
            "Epoch 5/50\n",
            "2070/2070 - 26s - loss: 2.3810 - accuracy: 0.2763 - val_loss: 2.3732 - val_accuracy: 0.2795 - 26s/epoch - 13ms/step\n",
            "Epoch 6/50\n",
            "Epoch 7/50\n",
            "2070/2070 - 26s - loss: 2.3214 - accuracy: 0.2960 - val_loss: 2.3358 - val_accuracy: 0.2874 - 26s/epoch - 13ms/step\n",
            "Epoch 8/50\n",
            "2070/2070 - 26s - loss: 2.2970 - accuracy: 0.3041 - val_loss: 2.3205 - val_accuracy: 0.2961 - 26s/epoch - 13ms/step\n",
            "Epoch 9/50\n",
            "2070/2070 - 28s - loss: 2.2747 - accuracy: 0.3124 - val_loss: 2.2986 - val_accuracy: 0.3017 - 28s/epoch - 14ms/step\n",
            "Epoch 10/50\n",
            "2070/2070 - 26s - loss: 2.2545 - accuracy: 0.3187 - val_loss: 2.2867 - val_accuracy: 0.3088 - 26s/epoch - 13ms/step\n",
            "Epoch 11/50\n",
            "2070/2070 - 26s - loss: 2.2366 - accuracy: 0.3249 - val_loss: 2.2697 - val_accuracy: 0.3135 - 26s/epoch - 13ms/step\n",
            "Epoch 12/50\n",
            "2070/2070 - 26s - loss: 2.2205 - accuracy: 0.3294 - val_loss: 2.2632 - val_accuracy: 0.3169 - 26s/epoch - 13ms/step\n",
            "Epoch 13/50\n",
            "2070/2070 - 26s - loss: 2.2051 - accuracy: 0.3340 - val_loss: 2.2606 - val_accuracy: 0.3179 - 26s/epoch - 13ms/step\n",
            "Epoch 14/50\n",
            "2070/2070 - 27s - loss: 2.1910 - accuracy: 0.3390 - val_loss: 2.2439 - val_accuracy: 0.3214 - 27s/epoch - 13ms/step\n",
            "Epoch 15/50\n",
            "2070/2070 - 27s - loss: 2.1772 - accuracy: 0.3414 - val_loss: 2.2360 - val_accuracy: 0.3242 - 27s/epoch - 13ms/step\n",
            "Epoch 16/50\n",
            "2070/2070 - 26s - loss: 2.1639 - accuracy: 0.3458 - val_loss: 2.2296 - val_accuracy: 0.3300 - 26s/epoch - 12ms/step\n",
            "Epoch 17/50\n",
            "2070/2070 - 26s - loss: 2.1511 - accuracy: 0.3506 - val_loss: 2.2292 - val_accuracy: 0.3325 - 26s/epoch - 12ms/step\n",
            "Epoch 18/50\n",
            "2070/2070 - 26s - loss: 2.1402 - accuracy: 0.3547 - val_loss: 2.2226 - val_accuracy: 0.3323 - 26s/epoch - 12ms/step\n",
            "Epoch 19/50\n",
            "2070/2070 - 26s - loss: 2.1280 - accuracy: 0.3582 - val_loss: 2.2232 - val_accuracy: 0.3358 - 26s/epoch - 13ms/step\n",
            "Epoch 20/50\n",
            "2070/2070 - 27s - loss: 2.1180 - accuracy: 0.3618 - val_loss: 2.2133 - val_accuracy: 0.3391 - 27s/epoch - 13ms/step\n",
            "Epoch 21/50\n",
            "2070/2070 - 26s - loss: 2.1086 - accuracy: 0.3670 - val_loss: 2.2114 - val_accuracy: 0.3381 - 26s/epoch - 12ms/step\n",
            "Epoch 22/50\n",
            "2070/2070 - 26s - loss: 2.0997 - accuracy: 0.3683 - val_loss: 2.2063 - val_accuracy: 0.3420 - 26s/epoch - 12ms/step\n",
            "Epoch 23/50\n",
            "2070/2070 - 26s - loss: 2.0903 - accuracy: 0.3705 - val_loss: 2.2061 - val_accuracy: 0.3450 - 26s/epoch - 12ms/step\n",
            "Epoch 24/50\n",
            "2070/2070 - 25s - loss: 2.0823 - accuracy: 0.3762 - val_loss: 2.2030 - val_accuracy: 0.3449 - 25s/epoch - 12ms/step\n",
            "Epoch 25/50\n",
            "2070/2070 - 26s - loss: 2.0754 - accuracy: 0.3757 - val_loss: 2.2019 - val_accuracy: 0.3476 - 26s/epoch - 12ms/step\n",
            "Epoch 26/50\n",
            "2070/2070 - 27s - loss: 2.0662 - accuracy: 0.3803 - val_loss: 2.1988 - val_accuracy: 0.3487 - 27s/epoch - 13ms/step\n",
            "Epoch 27/50\n",
            "2070/2070 - 26s - loss: 2.0610 - accuracy: 0.3822 - val_loss: 2.2010 - val_accuracy: 0.3491 - 26s/epoch - 13ms/step\n",
            "Epoch 28/50\n",
            "2070/2070 - 26s - loss: 2.0536 - accuracy: 0.3843 - val_loss: 2.1938 - val_accuracy: 0.3503 - 26s/epoch - 12ms/step\n",
            "Epoch 29/50\n",
            "2070/2070 - 29s - loss: 2.0473 - accuracy: 0.3865 - val_loss: 2.1975 - val_accuracy: 0.3515 - 29s/epoch - 14ms/step\n",
            "Epoch 30/50\n",
            "2070/2070 - 26s - loss: 2.0412 - accuracy: 0.3884 - val_loss: 2.1925 - val_accuracy: 0.3516 - 26s/epoch - 13ms/step\n",
            "Epoch 31/50\n",
            "2070/2070 - 26s - loss: 2.0358 - accuracy: 0.3885 - val_loss: 2.1963 - val_accuracy: 0.3533 - 26s/epoch - 13ms/step\n",
            "Epoch 32/50\n",
            "2070/2070 - 26s - loss: 2.0295 - accuracy: 0.3909 - val_loss: 2.1954 - val_accuracy: 0.3546 - 26s/epoch - 13ms/step\n",
            "Epoch 33/50\n",
            "2070/2070 - 26s - loss: 2.0244 - accuracy: 0.3932 - val_loss: 2.1975 - val_accuracy: 0.3535 - 26s/epoch - 13ms/step\n",
            "Epoch 34/50\n",
            "2070/2070 - 26s - loss: 2.0190 - accuracy: 0.3954 - val_loss: 2.1912 - val_accuracy: 0.3547 - 26s/epoch - 13ms/step\n",
            "Epoch 35/50\n",
            "2070/2070 - 27s - loss: 2.0134 - accuracy: 0.3974 - val_loss: 2.1963 - val_accuracy: 0.3530 - 27s/epoch - 13ms/step\n",
            "Epoch 36/50\n",
            "2070/2070 - 27s - loss: 2.0085 - accuracy: 0.3981 - val_loss: 2.1936 - val_accuracy: 0.3529 - 27s/epoch - 13ms/step\n",
            "Epoch 37/50\n",
            "2070/2070 - 28s - loss: 2.0035 - accuracy: 0.3990 - val_loss: 2.1879 - val_accuracy: 0.3595 - 28s/epoch - 13ms/step\n",
            "Epoch 38/50\n",
            "2070/2070 - 28s - loss: 1.9983 - accuracy: 0.4004 - val_loss: 2.1866 - val_accuracy: 0.3602 - 28s/epoch - 13ms/step\n",
            "Epoch 39/50\n",
            "2070/2070 - 27s - loss: 1.9935 - accuracy: 0.4030 - val_loss: 2.1899 - val_accuracy: 0.3583 - 27s/epoch - 13ms/step\n",
            "Epoch 40/50\n",
            "2070/2070 - 27s - loss: 1.9893 - accuracy: 0.4034 - val_loss: 2.1931 - val_accuracy: 0.3596 - 27s/epoch - 13ms/step\n",
            "Epoch 41/50\n",
            "2070/2070 - 31s - loss: 1.9850 - accuracy: 0.4044 - val_loss: 2.1936 - val_accuracy: 0.3591 - 31s/epoch - 15ms/step\n"
          ]
        }
      ],
      "source": [
        "h = model.fit(\n",
        "    x_train,y_train,\n",
        "    validation_data = (x_test, y_test),\n",
        "    epochs = 50, verbose=2,\n",
        "    callbacks=[\n",
        "        tf.keras.callbacks.EarlyStopping(monitor='val_accuracy', patience=3)\n",
        "        \n",
        "    ]\n",
        ")"
      ]
    },
    {
      "cell_type": "markdown",
      "metadata": {
        "id": "VCZhfB38_73g"
      },
      "source": [
        "## Task 8: Generate Names!"
      ]
    },
    {
      "cell_type": "code",
      "execution_count": 31,
      "metadata": {
        "id": "9f50aTRcpt24",
        "colab": {
          "base_uri": "https://localhost:8080/",
          "height": 265
        },
        "outputId": "fb9d9a24-5c16-459b-ca4d-03309bdc7791"
      },
      "outputs": [
        {
          "output_type": "display_data",
          "data": {
            "text/plain": [
              "<Figure size 432x288 with 1 Axes>"
            ],
            "image/png": "[encoded data removed]"
          },
          "metadata": {
            "needs_background": "light"
          }
        }
      ],
      "source": [
        "from matplotlib import pyplot as plt\n",
        "\n",
        "epochs_ran = len(h.history['loss'])\n",
        "\n",
        "plt.plot(range(0, epochs_ran), h.history['val_accuracy'], label ='Validation')\n",
        "plt.plot(range(0, epochs_ran), h.history['accuracy'], label = 'Training')\n",
        "plt.legend()\n",
        "plt.show()"
      ]
    },
    {
      "cell_type": "code",
      "execution_count": 33,
      "metadata": {
        "id": "faQ0FInlpt26"
      },
      "outputs": [],
      "source": [
        "def generate_names(seed):\n",
        "  for i in range(0,40):\n",
        "    seq = name_to_seq(seed)\n",
        "    padded = tf.keras.preprocessing.sequence.pad_sequences([seq], padding='pre',\n",
        "                                                           maxlen = max_len-1,\n",
        "                                                           truncating='pre')\n",
        "    pred = model.predict(padded)[0]\n",
        "    pred_char = index_to_char[tf.argmax(pred).numpy()]\n",
        "    seed += pred_char\n",
        "\n",
        "    if pred_char == '\\t':\n",
        "      break\n",
        "  print(seed)"
      ]
    },
    {
      "cell_type": "code",
      "source": [
        "generate_names('x')"
      ],
      "metadata": {
        "colab": {
          "base_uri": "https://localhost:8080/"
        },
        "id": "OB_-JDsH70Z0",
        "outputId": "06a7af7d-3672-49e4-a0a2-bd413c799232"
      },
      "execution_count": 36,
      "outputs": [
        {
          "output_type": "stream",
          "name": "stdout",
          "text": [
            "1/1 [==============================] - 0s 20ms/step\n",
            "1/1 [==============================] - 0s 20ms/step\n",
            "1/1 [==============================] - 0s 21ms/step\n",
            "1/1 [==============================] - 0s 20ms/step\n",
            "1/1 [==============================] - 0s 26ms/step\n",
            "1/1 [==============================] - 0s 19ms/step\n",
            "1/1 [==============================] - 0s 20ms/step\n",
            "1/1 [==============================] - 0s 20ms/step\n",
            "1/1 [==============================] - 0s 20ms/step\n",
            "1/1 [==============================] - 0s 25ms/step\n",
            "1/1 [==============================] - 0s 27ms/step\n",
            "1/1 [==============================] - 0s 19ms/step\n",
            "1/1 [==============================] - 0s 23ms/step\n",
            "1/1 [==============================] - 0s 19ms/step\n",
            "1/1 [==============================] - 0s 20ms/step\n",
            "xid deathstroke\t\n"
          ]
        }
      ]
    }
  ],
  "metadata": {
    "colab": {
      "provenance": []
    },
    "kernelspec": {
      "display_name": "Python 3",
      "language": "python",
      "name": "python3"
    },
    "language_info": {
      "codemirror_mode": {
        "name": "ipython",
        "version": 3
      },
      "file_extension": ".py",
      "mimetype": "text/x-python",
      "name": "python",
      "nbconvert_exporter": "python",
      "pygments_lexer": "ipython3",
      "version": "3.8.3"
    },
    "gpuClass": "standard"
  },
  "nbformat": 4,
  "nbformat_minor": 0
}